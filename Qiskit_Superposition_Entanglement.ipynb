{
  "cells": [
    {
      "cell_type": "markdown",
      "metadata": {
        "id": "X2W5OpxSv-y2"
      },
      "source": [
        "# Superposition and Entanglement in Qiskit\n",
        "This notebook demonstrates:\n",
        "1. **Superposition** using a single qubit.\n",
        "2. **Entanglement** using two qubits.\n",
        "We will use Qiskit to create circuits, visualize the states, and measure outcomes."
      ],
      "id": "X2W5OpxSv-y2"
    },
    {
      "cell_type": "code",
      "metadata": {
        "id": "NOQIWRacv-y3",
        "colab": {
          "base_uri": "https://localhost:8080/"
        },
        "outputId": "2d7159ca-2ccb-413e-8ed3-eb7a0a3070bd"
      },
      "source": [
        "!pip install qiskit --quiet\n",
        "!pip install qiskit-aer --quiet\n",
        "!pip install pylatexenc --quiet"
      ],
      "execution_count": 12,
      "outputs": [
        {
          "output_type": "stream",
          "name": "stdout",
          "text": [
            "\u001b[?25l     \u001b[90m━━━━━━━━━━━━━━━━━━━━━━━━━━━━━━━━━━━━━━━━\u001b[0m \u001b[32m0.0/162.6 kB\u001b[0m \u001b[31m?\u001b[0m eta \u001b[36m-:--:--\u001b[0m\r\u001b[2K     \u001b[91m━━━━━━━━━━━━━━━━━━━━━━━━━━━━━━━━━━━━\u001b[0m\u001b[91m╸\u001b[0m\u001b[90m━━\u001b[0m \u001b[32m153.6/162.6 kB\u001b[0m \u001b[31m6.5 MB/s\u001b[0m eta \u001b[36m0:00:01\u001b[0m\r\u001b[2K     \u001b[90m━━━━━━━━━━━━━━━━━━━━━━━━━━━━━━━━━━━━━━━\u001b[0m \u001b[32m162.6/162.6 kB\u001b[0m \u001b[31m4.2 MB/s\u001b[0m eta \u001b[36m0:00:00\u001b[0m\n",
            "\u001b[?25h  Preparing metadata (setup.py) ... \u001b[?25l\u001b[?25hdone\n",
            "  Building wheel for pylatexenc (setup.py) ... \u001b[?25l\u001b[?25hdone\n"
          ]
        }
      ],
      "id": "NOQIWRacv-y3"
    },
    {
      "cell_type": "code",
      "metadata": {
        "id": "4vIIe5A0v-y4"
      },
      "source": [
        "# Import necessary libraries\n",
        "from qiskit import QuantumCircuit\n",
        "from qiskit_aer import AerSimulator\n",
        "from qiskit import transpile\n",
        "from qiskit.visualization import plot_histogram, plot_bloch_multivector\n",
        "from qiskit.quantum_info import Statevector\n",
        "import matplotlib.pyplot as plt\n",
        "\n",
        "# Initialize simulator\n",
        "simulator = AerSimulator()"
      ],
      "execution_count": 20,
      "outputs": [],
      "id": "4vIIe5A0v-y4"
    },
    {
      "cell_type": "markdown",
      "metadata": {
        "id": "B_QEU5O6v-y4"
      },
      "source": [
        "## 1. Superposition Example"
      ],
      "id": "B_QEU5O6v-y4"
    },
    {
      "cell_type": "code",
      "metadata": {
        "id": "mPhcfNBxv-y5",
        "colab": {
          "base_uri": "https://localhost:8080/"
        },
        "outputId": "ddb05042-329a-4432-9248-4e176106032d"
      },
      "source": [
        "# Task 1: Superposition\n",
        "\n",
        "qc_super = QuantumCircuit(1, 1)\n",
        "qc_super.h(0)\n",
        "\n",
        "qc_super.measure(0, 0)\n",
        "compiled_super = transpile(qc_super, simulator)\n",
        "job_super = simulator.run(compiled_super, shots=1024)\n",
        "result_super = job_super.result()\n",
        "counts_super = result_super.get_counts()\n",
        "\n",
        "print(\"Superposition Measurement Counts:\", counts_super)\n",
        "plot_histogram(counts_super)\n",
        "plt.show()"
      ],
      "execution_count": 22,
      "outputs": [
        {
          "output_type": "stream",
          "name": "stdout",
          "text": [
            "Superposition Measurement Counts: {'0': 505, '1': 519}\n"
          ]
        }
      ],
      "id": "mPhcfNBxv-y5"
    },
    {
      "cell_type": "markdown",
      "metadata": {
        "id": "PWL3wDZWv-y6"
      },
      "source": [
        "## 2. Entanglement Example"
      ],
      "id": "PWL3wDZWv-y6"
    },
    {
      "cell_type": "code",
      "metadata": {
        "id": "dj2F4Yswv-y6",
        "colab": {
          "base_uri": "https://localhost:8080/"
        },
        "outputId": "3d3445d2-4e55-45ff-fc83-7ad849d61b7b"
      },
      "source": [
        "# Task 2: Entanglement\n",
        "\n",
        "qc_ent = QuantumCircuit(2, 2)\n",
        "\n",
        "# Apply Hadamard to qubit 0\n",
        "qc_ent.h(0)\n",
        "\n",
        "# Apply CNOT (entangling qubits 0 and 1)\n",
        "qc_ent.cx(0, 1)\n",
        "\n",
        "# Measure both qubits\n",
        "qc_ent.measure([0, 1], [0, 1])\n",
        "\n",
        "# Transpile and run\n",
        "compiled_ent = transpile(qc_ent, simulator)\n",
        "job_ent = simulator.run(compiled_ent, shots=1024)\n",
        "result_ent = job_ent.result()\n",
        "counts_ent = result_ent.get_counts()\n",
        "\n",
        "# Plot histogram\n",
        "print(\"Entanglement Measurement Counts:\", counts_ent)\n",
        "plot_histogram(counts_ent)\n",
        "plt.show()\n"
      ],
      "execution_count": 23,
      "outputs": [
        {
          "output_type": "stream",
          "name": "stdout",
          "text": [
            "Entanglement Measurement Counts: {'00': 514, '11': 510}\n"
          ]
        }
      ],
      "id": "dj2F4Yswv-y6"
    },
    {
      "cell_type": "code",
      "source": [],
      "metadata": {
        "id": "V2kJQtoMZsG9"
      },
      "id": "V2kJQtoMZsG9",
      "execution_count": null,
      "outputs": []
    }
  ],
  "metadata": {
    "kernelspec": {
      "display_name": "Python 3",
      "language": "python",
      "name": "python3"
    },
    "language_info": {
      "name": "python",
      "version": "3.10"
    },
    "colab": {
      "provenance": []
    }
  },
  "nbformat": 4,
  "nbformat_minor": 5
}